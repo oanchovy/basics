{
 "cells": [
  {
   "cell_type": "markdown",
   "metadata": {},
   "source": [
    "# skimage vs. PIL vs. cv2"
   ]
  },
  {
   "cell_type": "markdown",
   "metadata": {},
   "source": [
    "### image library loading\n",
    "- scikit-image (skimage): **from skimage import io**\n",
    "- Pillow (PIL, Python Image Library): **from PIL import Image**\n",
    "- OpenCV (cv2): **import cv2**"
   ]
  },
  {
   "cell_type": "code",
   "execution_count": 1,
   "metadata": {},
   "outputs": [],
   "source": [
    "from skimage import io\n",
    "from PIL import Image\n",
    "import cv2"
   ]
  },
  {
   "cell_type": "markdown",
   "metadata": {},
   "source": [
    "### image loading\n",
    "- skimage: **io.imread(filename)**\n",
    "- PIL: **Image.open(filename)**\n",
    "- cv2: **cv2.imread(filename)**"
   ]
  },
  {
   "cell_type": "code",
   "execution_count": 2,
   "metadata": {},
   "outputs": [],
   "source": [
    "sci_img = io.imread('astronaut.png')\n",
    "pil_img = Image.open('astronaut.png')\n",
    "cv2_img = cv2.imread('astronaut.png')"
   ]
  },
  {
   "cell_type": "markdown",
   "metadata": {},
   "source": [
    "### image type\n",
    "- skimage: **numpy.ndarray**\n",
    "- PIL: **Image object**\n",
    "- cv2: **numpy.ndarray**"
   ]
  },
  {
   "cell_type": "code",
   "execution_count": 3,
   "metadata": {},
   "outputs": [
    {
     "name": "stdout",
     "output_type": "stream",
     "text": [
      "sci_img type: <class 'numpy.ndarray'>\n",
      "pil_img type: <class 'PIL.PngImagePlugin.PngImageFile'>\n",
      "cv2_img type: <class 'numpy.ndarray'>\n"
     ]
    }
   ],
   "source": [
    "print('sci_img type: ' + str(type(sci_img)))\n",
    "print('pil_img type: ' + str(type(pil_img)))\n",
    "print('cv2_img type: ' + str(type(cv2_img)))"
   ]
  },
  {
   "cell_type": "markdown",
   "metadata": {},
   "source": [
    "### image size(or shape)\n",
    "HxWxC shape"
   ]
  },
  {
   "cell_type": "code",
   "execution_count": 4,
   "metadata": {},
   "outputs": [
    {
     "name": "stdout",
     "output_type": "stream",
     "text": [
      "sci_img size: (512, 512, 3)\n",
      "pil_img size: (512, 512), mode: RGB\n",
      "cv2_img size: (512, 512, 3)\n"
     ]
    }
   ],
   "source": [
    "print('sci_img size: ' + str(sci_img.shape))\n",
    "print('pil_img size: ' + str(pil_img.size) + ', mode: ' + str(pil_img.mode))\n",
    "print('cv2_img size: ' + str(cv2_img.shape))"
   ]
  },
  {
   "cell_type": "markdown",
   "metadata": {},
   "source": [
    "### pixel access\n",
    "- skimage: **RGB array \\[0, 255\\]**\n",
    "- PIL: **RGB array \\[0, 255\\]**\n",
    "- cv2: **BGR array \\[0, 255\\]**"
   ]
  },
  {
   "cell_type": "code",
   "execution_count": 5,
   "metadata": {},
   "outputs": [
    {
     "name": "stdout",
     "output_type": "stream",
     "text": [
      "sci_img (256, 128): [214 179 153]\n",
      "pil_img (256, 128): (214, 179, 153)\n",
      "cv2_img (256, 128): [153 179 214]\n"
     ]
    }
   ],
   "source": [
    "x, y = 256, 128\n",
    "\n",
    "print('sci_img (%d, %d): ' % (x, y) + str(sci_img[y, x]))\n",
    "print('pil_img (%d, %d): ' % (x, y) + str(pil_img.getpixel((x, y))))\n",
    "print('cv2_img (%d, %d): ' % (x, y) + str(cv2_img[y, x]))"
   ]
  },
  {
   "cell_type": "code",
   "execution_count": null,
   "metadata": {},
   "outputs": [],
   "source": []
  }
 ],
 "metadata": {
  "kernelspec": {
   "display_name": "Python 3",
   "language": "python",
   "name": "python3"
  },
  "language_info": {
   "codemirror_mode": {
    "name": "ipython",
    "version": 3
   },
   "file_extension": ".py",
   "mimetype": "text/x-python",
   "name": "python",
   "nbconvert_exporter": "python",
   "pygments_lexer": "ipython3",
   "version": "3.7.0"
  }
 },
 "nbformat": 4,
 "nbformat_minor": 2
}
